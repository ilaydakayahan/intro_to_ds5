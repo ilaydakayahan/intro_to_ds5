{
 "cells": [
  {
   "cell_type": "code",
   "execution_count": null,
   "id": "6898ba49-c891-4136-be9e-b71642c93170",
   "metadata": {},
   "outputs": [],
   "source": []
  }
 ],
 "metadata": {
  "kernelspec": {
   "display_name": "Python 3 (ipykernel)",
   "language": "python",
   "name": "python3"
  },
  "language_info": {
   "name": ""
  }
 },
 "nbformat": 4,
 "nbformat_minor": 5
}
